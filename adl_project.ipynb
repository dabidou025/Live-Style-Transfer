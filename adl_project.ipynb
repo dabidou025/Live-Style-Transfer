{
 "cells": [
  {
   "cell_type": "code",
   "execution_count": 18,
   "metadata": {},
   "outputs": [
    {
     "name": "stdout",
     "output_type": "stream",
     "text": [
      "^C\n",
      "Traceback (most recent call last):\n",
      "  File \"/Users/guillaume/GitHub/Live-Style-Transfer/webcam.py\", line 78, in <module>\n",
      "    main()\n",
      "  File \"/Users/guillaume/GitHub/Live-Style-Transfer/webcam.py\", line 75, in main\n",
      "    webcam(args)\n",
      "  File \"/Users/guillaume/GitHub/Live-Style-Transfer/webcam.py\", line 46, in webcam\n",
      "    gen = predictor.eval_image(frame, style_id)\n",
      "  File \"/Users/guillaume/GitHub/Live-Style-Transfer/predictor.py\", line 49, in eval_image\n",
      "    gen = self.st_model(img.unsqueeze(0), style_1, style_2, alpha)\n",
      "  File \"/opt/homebrew/Caskroom/miniforge/base/envs/dlclass/lib/python3.9/site-packages/torch/nn/modules/module.py\", line 1110, in _call_impl\n",
      "    return forward_call(*input, **kwargs)\n",
      "  File \"/Users/guillaume/GitHub/Live-Style-Transfer/models/stmodel.py\", line 115, in forward\n",
      "    x = self.convcin4(x, style_1, style_2, alpha)\n",
      "  File \"/opt/homebrew/Caskroom/miniforge/base/envs/dlclass/lib/python3.9/site-packages/torch/nn/modules/module.py\", line 1110, in _call_impl\n",
      "    return forward_call(*input, **kwargs)\n",
      "  File \"/Users/guillaume/GitHub/Live-Style-Transfer/models/stmodel.py\", line 33, in forward\n",
      "    x = self.conv(x)\n",
      "  File \"/opt/homebrew/Caskroom/miniforge/base/envs/dlclass/lib/python3.9/site-packages/torch/nn/modules/module.py\", line 1110, in _call_impl\n",
      "    return forward_call(*input, **kwargs)\n",
      "  File \"/opt/homebrew/Caskroom/miniforge/base/envs/dlclass/lib/python3.9/site-packages/torch/nn/modules/conv.py\", line 447, in forward\n",
      "    return self._conv_forward(input, self.weight, self.bias)\n",
      "  File \"/opt/homebrew/Caskroom/miniforge/base/envs/dlclass/lib/python3.9/site-packages/torch/nn/modules/conv.py\", line 443, in _conv_forward\n",
      "    return F.conv2d(input, weight, bias, self.stride,\n",
      "KeyboardInterrupt\n"
     ]
    }
   ],
   "source": [
    "!python webcam.py --img-size 128 --load-model-path ./models/st_model_512_80k_12.pth --styles-path /Volumes/GoogleDrive/.shortcut-targets-by-id/1znqH73kfdZ2h8x10RpjDBwbRvij_G225/style_transfer/style_pictures --style-id 1"
   ]
  },
  {
   "cell_type": "code",
   "execution_count": null,
   "metadata": {},
   "outputs": [],
   "source": []
  }
 ],
 "metadata": {
  "interpreter": {
   "hash": "073fe8ea4ce543a2609e896bae9231f53fdadd8d1649458b1aebc6151d4644fa"
  },
  "kernelspec": {
   "display_name": "Python 3.9.7 ('dlclass')",
   "language": "python",
   "name": "python3"
  },
  "language_info": {
   "codemirror_mode": {
    "name": "ipython",
    "version": 3
   },
   "file_extension": ".py",
   "mimetype": "text/x-python",
   "name": "python",
   "nbconvert_exporter": "python",
   "pygments_lexer": "ipython3",
   "version": "3.9.7"
  },
  "orig_nbformat": 4
 },
 "nbformat": 4,
 "nbformat_minor": 2
}
