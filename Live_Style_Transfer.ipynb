{
  "cells": [
    {
      "cell_type": "markdown",
      "metadata": {},
      "source": [
        "[![Open In Colab](https://colab.research.google.com/assets/colab-badge.svg)](https://colab.research.google.com/github/dabidou025/Live-Style-Transfer/blob/main/Live_Style_Transfer.ipynb)"
      ]
    },
    {
      "cell_type": "code",
      "execution_count": 18,
      "metadata": {
        "colab": {
          "base_uri": "https://localhost:8080/"
        },
        "id": "pRMt1Ae6Asc7",
        "outputId": "02cbc1e3-5954-4c4e-8b7e-8817cb57ec56"
      },
      "outputs": [
        {
          "name": "stdout",
          "output_type": "stream",
          "text": [
            "Cloning into 'Live-Style-Transfer'...\n",
            "remote: Enumerating objects: 178, done.\u001b[K\n",
            "remote: Counting objects: 100% (178/178), done.\u001b[K\n",
            "remote: Compressing objects: 100% (132/132), done.\u001b[K\n",
            "remote: Total 178 (delta 86), reused 133 (delta 43), pack-reused 0\u001b[K\n",
            "Receiving objects: 100% (178/178), 30.51 MiB | 31.97 MiB/s, done.\n",
            "Resolving deltas: 100% (86/86), done.\n",
            "/content/Live-Style-Transfer\n"
          ]
        }
      ],
      "source": [
        "!git clone https://github.com/dabidou025/Live-Style-Transfer.git\n",
        "%cd Live-Style-Transfer/"
      ]
    },
    {
      "cell_type": "code",
      "execution_count": null,
      "metadata": {},
      "outputs": [],
      "source": [
        "from colab_tools import *\n",
        "\n",
        "live_app()"
      ]
    }
  ],
  "metadata": {
    "accelerator": "GPU",
    "colab": {
      "collapsed_sections": [],
      "name": "Live_Style_Transfer V3.ipynb",
      "provenance": []
    },
    "kernelspec": {
      "display_name": "Python 3",
      "name": "python3"
    },
    "language_info": {
      "name": "python"
    }
  },
  "nbformat": 4,
  "nbformat_minor": 0
}
