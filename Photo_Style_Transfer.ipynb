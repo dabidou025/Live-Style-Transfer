{
  "cells": [
    {
      "cell_type": "markdown",
      "metadata": {
        "id": "R7pPsDHPE_PF"
      },
      "source": [
        "[![Open In Colab](https://colab.research.google.com/assets/colab-badge.svg)](https://colab.research.google.com/github/dabidou025/Live-Style-Transfer/blob/main/Photo_Style_Transfer.ipynb)"
      ]
    },
    {
      "cell_type": "code",
      "execution_count": null,
      "metadata": {
        "colab": {
          "base_uri": "https://localhost:8080/"
        },
        "id": "pRMt1Ae6Asc7",
        "outputId": "3b3868b0-e6c4-4a6d-93ae-bad6e0e31a02"
      },
      "outputs": [],
      "source": [
        "!pip install -q gradio==2.8.7\n",
        "!git clone https://github.com/dabidou025/Live-Style-Transfer.git\n",
        "%cd Live-Style-Transfer/"
      ]
    },
    {
      "cell_type": "code",
      "execution_count": null,
      "metadata": {
        "colab": {
          "base_uri": "https://localhost:8080/"
        },
        "id": "LBy4brOoF9xC",
        "outputId": "989467b2-546b-4b80-9475-4ad71a54a937"
      },
      "outputs": [],
      "source": [
        "from colab_tools_2 import *"
      ]
    },
    {
      "cell_type": "code",
      "execution_count": null,
      "metadata": {},
      "outputs": [],
      "source": [
        "gradio_pls()"
      ]
    }
  ],
  "metadata": {
    "accelerator": "GPU",
    "colab": {
      "collapsed_sections": [],
      "name": "Photo_Style_Transfer.ipynb",
      "provenance": []
    },
    "kernelspec": {
      "display_name": "Python 3",
      "name": "python3"
    },
    "language_info": {
      "name": "python"
    }
  },
  "nbformat": 4,
  "nbformat_minor": 0
}
